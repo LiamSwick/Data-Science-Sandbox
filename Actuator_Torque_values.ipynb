{
  "nbformat": 4,
  "nbformat_minor": 0,
  "metadata": {
    "colab": {
      "provenance": [],
      "authorship_tag": "ABX9TyOvKDXG9Oq2R8T0saI366Zm",
      "include_colab_link": true
    },
    "kernelspec": {
      "name": "python3",
      "display_name": "Python 3"
    },
    "language_info": {
      "name": "python"
    }
  },
  "cells": [
    {
      "cell_type": "markdown",
      "metadata": {
        "id": "view-in-github",
        "colab_type": "text"
      },
      "source": [
        "<a href=\"https://colab.research.google.com/github/LiamSwick/Data-Science-Sandbox/blob/main/Actuator_Torque_values.ipynb\" target=\"_parent\"><img src=\"https://colab.research.google.com/assets/colab-badge.svg\" alt=\"Open In Colab\"/></a>"
      ]
    },
    {
      "cell_type": "code",
      "source": [
        "def get_torque_specs(path, w):\n",
        "  \"\"\"\n",
        "  Function will take in a string of the google drive file path of\n",
        "  the csv file and a rpm value. It will print out key statistics for the\n",
        "  dataframe given the specified rpm.\n",
        "  Arugments: path - string of file path\n",
        "             w - rpm value\n",
        "  Returns: NA\n",
        "  \"\"\"\n",
        "  from google.colab import drive                      # Import libraries we will use\n",
        "  import pandas as pd\n",
        "\n",
        "  drive.mount('/content/drive')                        # These commands allow us to access files from google drive\n",
        "  df = pd.read_csv(f'/content/drive/{path}', sep=';')  # Read csv into a data frame\n",
        "\n",
        "  df_copy = df.copy()                                          # Make a view so we don't lose any of the original data\n",
        "  df_copy = df_copy.drop(columns=['Unnamed: 4', 'Time (s).1']) # Drop unneeded columns\n",
        "\n",
        "\n",
        "  w_mask = df['Velocity demand value [rpm]'] == w\n",
        "  avg_torque = df[w_mask].mean()\n",
        "  sd_torque = df[w_mask].std()\n",
        "  max_torque = df[w_mask].max()\n",
        "  print(\"The specified rpm is: \", w)\n",
        "  print(f\"The average torque is: {avg_torque.iloc[1]: 0.2f} +/- {sd_torque.iloc[1]:0.2f}\")\n",
        "  print(f\"The maximum torque is: {max_torque.iloc[1]:0.2f}\")\n",
        "  print(\" \")\n",
        "  return"
      ],
      "metadata": {
        "id": "cOPLDejvf_1s"
      },
      "execution_count": 1,
      "outputs": []
    },
    {
      "cell_type": "code",
      "source": [
        "get_torque_specs(\"MyDrive/C21_data.csv\", 3000)\n",
        "get_torque_specs(\"MyDrive/C21_data.csv\", -3000)"
      ],
      "metadata": {
        "colab": {
          "base_uri": "https://localhost:8080/"
        },
        "id": "OgOjAFCvgQbF",
        "outputId": "ed28cd13-636a-487f-e216-351b3e45e4a6"
      },
      "execution_count": 2,
      "outputs": [
        {
          "output_type": "stream",
          "name": "stdout",
          "text": [
            "Drive already mounted at /content/drive; to attempt to forcibly remount, call drive.mount(\"/content/drive\", force_remount=True).\n",
            "The specified rpm is:  3000\n",
            "The average torque is:  514.18 +/- 40.83\n",
            "The maximum torque is: 649.00\n",
            " \n",
            "Drive already mounted at /content/drive; to attempt to forcibly remount, call drive.mount(\"/content/drive\", force_remount=True).\n",
            "The specified rpm is:  -3000\n",
            "The average torque is: -220.63 +/- 32.13\n",
            "The maximum torque is: -141.00\n",
            " \n"
          ]
        }
      ]
    },
    {
      "cell_type": "code",
      "source": [],
      "metadata": {
        "id": "bRVNEnuJh2V7"
      },
      "execution_count": 2,
      "outputs": []
    }
  ]
}